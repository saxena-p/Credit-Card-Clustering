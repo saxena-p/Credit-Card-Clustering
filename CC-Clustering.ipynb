{
 "cells": [
  {
   "cell_type": "markdown",
   "metadata": {},
   "source": [
    "# Credit card customer segmentation\n",
    "Problem statement: Given a dataset of a credit card company's clients, segregate the clients into different groups in order to apply different business strategies for each type of customer.\n",
    "- Application of a K-means algorithm to segment the data."
   ]
  },
  {
   "cell_type": "markdown",
   "metadata": {},
   "source": []
  }
 ],
 "metadata": {
  "language_info": {
   "name": "python"
  }
 },
 "nbformat": 4,
 "nbformat_minor": 2
}
